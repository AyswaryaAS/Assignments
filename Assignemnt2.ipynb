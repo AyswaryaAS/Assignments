{
 "cells": [
  {
   "cell_type": "markdown",
   "id": "a3c87c96",
   "metadata": {},
   "source": [
    "# Assignment on Statistics"
   ]
  },
  {
   "cell_type": "code",
   "execution_count": 2,
   "id": "3a79e7cf",
   "metadata": {},
   "outputs": [],
   "source": [
    "import pandas as pd\n",
    "\n",
    "# Load the dataset\n",
    "data = pd.read_csv(r\"C:\\Users\\ayshu\\Downloads\\statistics\\Students_Performance.csv\")"
   ]
  },
  {
   "cell_type": "code",
   "execution_count": 3,
   "id": "532d7581",
   "metadata": {},
   "outputs": [
    {
     "name": "stdout",
     "output_type": "stream",
     "text": [
      "female    518\n",
      "male      482\n",
      "Name: gender, dtype: int64\n"
     ]
    }
   ],
   "source": [
    "# Count the number of males and females\n",
    "gender_counts = data['gender'].value_counts()\n",
    "print(gender_counts)"
   ]
  },
  {
   "cell_type": "code",
   "execution_count": 4,
   "id": "83e7b9df",
   "metadata": {},
   "outputs": [
    {
     "name": "stdout",
     "output_type": "stream",
     "text": [
      "some college          226\n",
      "associate's degree    222\n",
      "high school           196\n",
      "some high school      179\n",
      "bachelor's degree     118\n",
      "master's degree        59\n",
      "Name: parental level of education, dtype: int64\n"
     ]
    }
   ],
   "source": [
    "# Check the distribution of parental level of education\n",
    "parental_education_counts = data['parental level of education'].value_counts()\n",
    "print(parental_education_counts)"
   ]
  },
  {
   "cell_type": "code",
   "execution_count": 5,
   "id": "e6e91197",
   "metadata": {},
   "outputs": [
    {
     "name": "stdout",
     "output_type": "stream",
     "text": [
      "Average Scores by Gender:\n",
      "         math score  reading score  writing score\n",
      "gender                                          \n",
      "female   63.376448      72.590734      72.467181\n",
      "male     68.821577      65.545643      63.446058\n",
      "Average Scores by Test Preparation Course:\n",
      "                          math score  reading score  writing score\n",
      "test preparation course                                          \n",
      "completed                  69.96648      74.175978      74.684358\n",
      "none                       63.78972      66.417445      64.457944\n"
     ]
    }
   ],
   "source": [
    "# Calculate average scores by gender and test preparation course\n",
    "average_scores_gender = data.groupby('gender')[['math score', 'reading score', 'writing score']].mean()\n",
    "average_scores_test_prep = data.groupby('test preparation course')[['math score', 'reading score', 'writing score']].mean()\n",
    "print(\"Average Scores by Gender:\\n\", average_scores_gender)\n",
    "print(\"Average Scores by Test Preparation Course:\\n\", average_scores_test_prep)"
   ]
  },
  {
   "cell_type": "code",
   "execution_count": 6,
   "id": "03f9a335",
   "metadata": {},
   "outputs": [
    {
     "name": "stdout",
     "output_type": "stream",
     "text": [
      "Scoring Variation by Gender:\n",
      "         math score  reading score  writing score\n",
      "gender                                          \n",
      "female   16.029928      14.411018      14.844842\n",
      "male     14.556411      14.149594      14.227225\n",
      "Scoring Variation by Test Preparation Course:\n",
      "                          math score  reading score  writing score\n",
      "test preparation course                                          \n",
      "completed                 14.521847      13.537572      13.236412\n",
      "none                      15.705689      14.608896      15.041667\n"
     ]
    }
   ],
   "source": [
    "# Calculate standard deviation for scores by gender and test preparation course\n",
    "std_deviation_gender = data.groupby('gender')[['math score', 'reading score', 'writing score']].std()\n",
    "std_deviation_test_prep = data.groupby('test preparation course')[['math score', 'reading score', 'writing score']].std()\n",
    "print(\"Scoring Variation by Gender:\\n\", std_deviation_gender)\n",
    "print(\"Scoring Variation by Test Preparation Course:\\n\", std_deviation_test_prep)"
   ]
  },
  {
   "cell_type": "code",
   "execution_count": 9,
   "id": "d64997eb",
   "metadata": {},
   "outputs": [],
   "source": [
    "# Calculate the threshold for the top 25%\n",
    "top_25_threshold = data['math score'].quantile(0.75)\n",
    "\n",
    "# Create a new column for bonus points\n",
    "data['bonus_points'] = 0\n",
    "data.loc[data['math score'] >= top_25_threshold, 'bonus_points'] = 10  \n"
   ]
  },
  {
   "cell_type": "markdown",
   "id": "5c4b7ec4",
   "metadata": {},
   "source": [
    "# Case Study on Testing of Hypothesis"
   ]
  },
  {
   "cell_type": "code",
   "execution_count": 11,
   "id": "685898a3",
   "metadata": {},
   "outputs": [],
   "source": [
    "import pandas as pd\n",
    "\n",
    "# Load the dataset\n",
    "data = pd.read_csv(r\"C:\\Users\\ayshu\\Downloads\\statistics\\Sales_add.csv\")"
   ]
  },
  {
   "cell_type": "code",
   "execution_count": 12,
   "id": "8a9c21fd",
   "metadata": {},
   "outputs": [],
   "source": [
    "# Calculate the increase in sales after digital marketing\n",
    "data['Sales_Increase'] = data['Sales_After_digital_add(in $)'] - data['Sales_before_digital_add(in $)']\n"
   ]
  },
  {
   "cell_type": "code",
   "execution_count": 13,
   "id": "5c42f9cb",
   "metadata": {},
   "outputs": [
    {
     "name": "stdout",
     "output_type": "stream",
     "text": [
      "Total Sales Increase after Digital Marketing: $ 1801443\n"
     ]
    }
   ],
   "source": [
    "# Calculate the total sales increase\n",
    "total_sales_increase = data['Sales_Increase'].sum()\n",
    "print(\"Total Sales Increase after Digital Marketing: $\", total_sales_increase)\n"
   ]
  },
  {
   "cell_type": "code",
   "execution_count": 14,
   "id": "9c4c4a68",
   "metadata": {},
   "outputs": [],
   "source": [
    "from scipy.stats import chi2_contingency\n"
   ]
  },
  {
   "cell_type": "code",
   "execution_count": 16,
   "id": "cec78f37",
   "metadata": {},
   "outputs": [],
   "source": [
    "# Create a contingency table\n",
    "contingency_table = pd.crosstab(data['Region'], data['Manager'])\n"
   ]
  },
  {
   "cell_type": "code",
   "execution_count": 18,
   "id": "2c0b0e97",
   "metadata": {},
   "outputs": [
    {
     "name": "stdout",
     "output_type": "stream",
     "text": [
      "Chi-squared statistic: 3.050566893424036\n",
      "Dependancy: 0.5493991051158094\n"
     ]
    }
   ],
   "source": [
    "# Perform a chi-squared test\n",
    "chi2, p, dof, expected = chi2_contingency(contingency_table)\n",
    "\n",
    "print(\"Chi-squared statistic:\", chi2)\n",
    "print(\"Dependancy:\", p)"
   ]
  },
  {
   "cell_type": "code",
   "execution_count": null,
   "id": "2504364f",
   "metadata": {},
   "outputs": [],
   "source": []
  }
 ],
 "metadata": {
  "kernelspec": {
   "display_name": "Python 3 (ipykernel)",
   "language": "python",
   "name": "python3"
  },
  "language_info": {
   "codemirror_mode": {
    "name": "ipython",
    "version": 3
   },
   "file_extension": ".py",
   "mimetype": "text/x-python",
   "name": "python",
   "nbconvert_exporter": "python",
   "pygments_lexer": "ipython3",
   "version": "3.11.3"
  }
 },
 "nbformat": 4,
 "nbformat_minor": 5
}
